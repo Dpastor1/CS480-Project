{
 "cells": [
  {
   "cell_type": "markdown",
   "id": "c0409543",
   "metadata": {},
   "source": [
    "### Data Wrangling"
   ]
  },
  {
   "cell_type": "code",
   "execution_count": 2,
   "id": "832d6870",
   "metadata": {},
   "outputs": [],
   "source": [
    "import pandas as pd"
   ]
  },
  {
   "cell_type": "code",
   "execution_count": 5,
   "id": "2163d7b2",
   "metadata": {},
   "outputs": [],
   "source": [
    "dataValidation = pd.read_csv(\"dataSetValidation.csv\") #This data set has a little over 5000 lower quality entries, might be used for validation?\n",
    "dataMain = pd.read_csv(\"dataSetMain.csv\") # Main dataset that has 40 entries of high-quality data"
   ]
  },
  {
   "cell_type": "code",
   "execution_count": 4,
   "id": "994789f0",
   "metadata": {},
   "outputs": [
    {
     "name": "stdout",
     "output_type": "stream",
     "text": [
      "Index(['ID', 'Platform', 'Name', 'Created Timestamp', 'Updated Timestamp',\n",
      "       'Description', 'Keywords', 'Homepage URL', 'Licenses', 'Repository URL',\n",
      "       'Versions Count', 'SourceRank', 'Latest Release Publish Timestamp',\n",
      "       'Latest Release Number', 'Package Manager ID',\n",
      "       'Dependent Projects Count', 'Language', 'Status',\n",
      "       'Last synced Timestamp', 'Dependent Repositories Count',\n",
      "       'Repository ID', 'Repository Host Type', 'Repository Name with Owner',\n",
      "       'Repository Description', 'Repository Fork?',\n",
      "       'Repository Created Timestamp', 'Repository Updated Timestamp',\n",
      "       'Repository Last pushed Timestamp', 'Repository Homepage URL',\n",
      "       'Repository Size', 'Repository Stars Count', 'Repository Language',\n",
      "       'Repository Issues enabled?', 'Repository Wiki enabled?',\n",
      "       'Repository Pages enabled?', 'Repository Forks Count',\n",
      "       'Repository Mirror URL', 'Repository Open Issues Count',\n",
      "       'Repository Default branch', 'Repository Watchers Count',\n",
      "       'Repository UUID', 'Repository Fork Source Name with Owner',\n",
      "       'Repository License', 'Repository Contributors Count',\n",
      "       'Repository Readme filename', 'Repository Changelog filename',\n",
      "       'Repository Contributing guidelines filename',\n",
      "       'Repository License filename', 'Repository Code of Conduct filename',\n",
      "       'Repository Security Threat Model filename',\n",
      "       'Repository Security Audit filename', 'Repository Status',\n",
      "       'Repository Last Synced Timestamp', 'Repository SourceRank',\n",
      "       'Repository Display Name', 'Repository SCM type',\n",
      "       'Repository Pull requests enabled?', 'Repository Logo URL',\n",
      "       'Repository Keywords'],\n",
      "      dtype='object')\n",
      "(1310124, 59)\n"
     ]
    }
   ],
   "source": [
    "print(dataValidation.columns)\n",
    "print(dataValidation.shape)"
   ]
  },
  {
   "cell_type": "code",
   "execution_count": null,
   "id": "8104730e",
   "metadata": {},
   "outputs": [],
   "source": []
  }
 ],
 "metadata": {
  "kernelspec": {
   "display_name": "base",
   "language": "python",
   "name": "python3"
  },
  "language_info": {
   "codemirror_mode": {
    "name": "ipython",
    "version": 3
   },
   "file_extension": ".py",
   "mimetype": "text/x-python",
   "name": "python",
   "nbconvert_exporter": "python",
   "pygments_lexer": "ipython3",
   "version": "3.10.12"
  }
 },
 "nbformat": 4,
 "nbformat_minor": 5
}
