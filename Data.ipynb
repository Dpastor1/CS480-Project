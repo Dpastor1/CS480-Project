{
 "cells": [
  {
   "cell_type": "markdown",
   "id": "c0409543",
   "metadata": {},
   "source": [
    "### Data Wrangling"
   ]
  },
  {
   "cell_type": "code",
   "execution_count": 1,
   "id": "832d6870",
   "metadata": {},
   "outputs": [],
   "source": [
    "import pandas as pd\n",
    "import statsmodels.api as sm"
   ]
  },
  {
   "cell_type": "code",
   "execution_count": null,
   "id": "2163d7b2",
   "metadata": {},
   "outputs": [],
   "source": [
    "dataMain = pd.read_csv(\"dataSetMain.csv\") # Main dataset that has 40 entries of high-quality data"
   ]
  },
  {
   "cell_type": "markdown",
   "id": "e2523ce7",
   "metadata": {},
   "source": [
    "# Multiple Regression Model"
   ]
  },
  {
   "cell_type": "markdown",
   "id": "b6600a5a",
   "metadata": {},
   "source": [
    "### Main DataSet\n"
   ]
  },
  {
   "cell_type": "code",
   "execution_count": 4,
   "id": "8104730e",
   "metadata": {},
   "outputs": [
    {
     "name": "stdout",
     "output_type": "stream",
     "text": [
      "                            OLS Regression Results                            \n",
      "==============================================================================\n",
      "Dep. Variable:              Bug_Count   R-squared:                       0.968\n",
      "Model:                            OLS   Adj. R-squared:                  0.964\n",
      "Method:                 Least Squares   F-statistic:                     264.7\n",
      "Date:                Mon, 27 Oct 2025   Prob (F-statistic):           1.24e-25\n",
      "Time:                        08:57:31   Log-Likelihood:                -153.57\n",
      "No. Observations:                  40   AIC:                             317.1\n",
      "Df Residuals:                      35   BIC:                             325.6\n",
      "Df Model:                           4                                         \n",
      "Covariance Type:            nonrobust                                         \n",
      "===============================================================================================\n",
      "                                  coef    std err          t      P>|t|      [0.025      0.975]\n",
      "-----------------------------------------------------------------------------------------------\n",
      "const                          -4.7304      4.871     -0.971      0.338     -14.620       5.159\n",
      "Team_Size                       0.2600      0.564      0.461      0.648      -0.885       1.405\n",
      "Dependency_Count               -0.2080      0.045     -4.599      0.000      -0.300      -0.116\n",
      "Outdated_Dependencies_Count     1.3050      0.348      3.753      0.001       0.599       2.011\n",
      "Lines_of_Code                   0.0006    7.3e-05      8.325      0.000       0.000       0.001\n",
      "==============================================================================\n",
      "Omnibus:                        5.002   Durbin-Watson:                   2.557\n",
      "Prob(Omnibus):                  0.082   Jarque-Bera (JB):                5.141\n",
      "Skew:                          -0.254   Prob(JB):                       0.0765\n",
      "Kurtosis:                       4.681   Cond. No.                     4.80e+05\n",
      "==============================================================================\n",
      "\n",
      "Notes:\n",
      "[1] Standard Errors assume that the covariance matrix of the errors is correctly specified.\n",
      "[2] The condition number is large, 4.8e+05. This might indicate that there are\n",
      "strong multicollinearity or other numerical problems.\n"
     ]
    }
   ],
   "source": [
    "X = dataMain[['Team_Size', 'Dependency_Count', 'Outdated_Dependencies_Count', 'Lines_of_Code', ]]\n",
    "y = dataMain['Bug_Count']\n",
    "\n",
    "# Intercept\n",
    "X = sm.add_constant(X)\n",
    "\n",
    "# Ordinary Least Squares reg model\n",
    "model = sm.OLS(y, X).fit()\n",
    "\n",
    "print(model.summary())\n"
   ]
  },
  {
   "cell_type": "code",
   "execution_count": 6,
   "id": "41012969",
   "metadata": {},
   "outputs": [
    {
     "name": "stdout",
     "output_type": "stream",
     "text": [
      "                               OLS Regression Results                               \n",
      "====================================================================================\n",
      "Dep. Variable:     Security_Vulnerabilities   R-squared:                       0.866\n",
      "Model:                                  OLS   Adj. R-squared:                  0.855\n",
      "Method:                       Least Squares   F-statistic:                     77.74\n",
      "Date:                      Thu, 23 Oct 2025   Prob (F-statistic):           8.52e-16\n",
      "Time:                              10:37:56   Log-Likelihood:                -80.498\n",
      "No. Observations:                        40   AIC:                             169.0\n",
      "Df Residuals:                            36   BIC:                             175.8\n",
      "Df Model:                                 3                                         \n",
      "Covariance Type:                  nonrobust                                         \n",
      "===============================================================================================\n",
      "                                  coef    std err          t      P>|t|      [0.025      0.975]\n",
      "-----------------------------------------------------------------------------------------------\n",
      "const                           2.3091      0.771      2.995      0.005       0.746       3.873\n",
      "Team_Size                      -0.1116      0.073     -1.525      0.136      -0.260       0.037\n",
      "Dependency_Count               -0.0360      0.007     -5.032      0.000      -0.050      -0.021\n",
      "Outdated_Dependencies_Count     0.4307      0.039     11.154      0.000       0.352       0.509\n",
      "==============================================================================\n",
      "Omnibus:                        9.395   Durbin-Watson:                   2.296\n",
      "Prob(Omnibus):                  0.009   Jarque-Bera (JB):                8.501\n",
      "Skew:                           0.937   Prob(JB):                       0.0143\n",
      "Kurtosis:                       4.260   Cond. No.                         524.\n",
      "==============================================================================\n",
      "\n",
      "Notes:\n",
      "[1] Standard Errors assume that the covariance matrix of the errors is correctly specified.\n"
     ]
    }
   ],
   "source": [
    "y_sec = dataMain[\"Security_Vulnerabilities\"]\n",
    "X = sm.add_constant(X)\n",
    "\n",
    "# Ordinary Least Squares reg model\n",
    "model = sm.OLS(y_sec, X).fit()\n",
    "\n",
    "print(model.summary())"
   ]
  }
 ],
 "metadata": {
  "kernelspec": {
   "display_name": ".venv",
   "language": "python",
   "name": "python3"
  },
  "language_info": {
   "codemirror_mode": {
    "name": "ipython",
    "version": 3
   },
   "file_extension": ".py",
   "mimetype": "text/x-python",
   "name": "python",
   "nbconvert_exporter": "python",
   "pygments_lexer": "ipython3",
   "version": "3.11.11"
  }
 },
 "nbformat": 4,
 "nbformat_minor": 5
}
