{
 "cells": [
  {
   "cell_type": "markdown",
   "id": "c0409543",
   "metadata": {},
   "source": [
    "### Data Wrangling"
   ]
  },
  {
   "cell_type": "code",
   "execution_count": 1,
   "id": "832d6870",
   "metadata": {},
   "outputs": [],
   "source": [
    "import pandas as pd\n",
    "import statsmodels.api as sm"
   ]
  },
  {
   "cell_type": "code",
   "execution_count": 13,
   "id": "2163d7b2",
   "metadata": {},
   "outputs": [],
   "source": [
    "dataVal = pd.read_csv(\"dataSetValidation.csv\") #This data set has a little over 5000 lower quality entries, might be used for validation?\n",
    "dataMain = pd.read_csv(\"dataSetMain.csv\") # Main dataset that has 40 entries of high-quality data"
   ]
  },
  {
   "cell_type": "code",
   "execution_count": null,
   "id": "994789f0",
   "metadata": {},
   "outputs": [
    {
     "name": "stdout",
     "output_type": "stream",
     "text": [
      "Index(['ID', 'Platform', 'Name', 'Created Timestamp', 'Updated Timestamp',\n",
      "       'Description', 'Keywords', 'Homepage URL', 'Licenses', 'Repository URL',\n",
      "       'Versions Count', 'SourceRank', 'Latest Release Publish Timestamp',\n",
      "       'Latest Release Number', 'Package Manager ID',\n",
      "       'Dependent Projects Count', 'Language', 'Status',\n",
      "       'Last synced Timestamp', 'Dependent Repositories Count',\n",
      "       'Repository ID', 'Repository Host Type', 'Repository Name with Owner',\n",
      "       'Repository Description', 'Repository Fork?',\n",
      "       'Repository Created Timestamp', 'Repository Updated Timestamp',\n",
      "       'Repository Last pushed Timestamp', 'Repository Homepage URL',\n",
      "       'Repository Size', 'Repository Stars Count', 'Repository Language',\n",
      "       'Repository Issues enabled?', 'Repository Wiki enabled?',\n",
      "       'Repository Pages enabled?', 'Repository Forks Count',\n",
      "       'Repository Mirror URL', 'Repository Open Issues Count',\n",
      "       'Repository Default branch', 'Repository Watchers Count',\n",
      "       'Repository UUID', 'Repository Fork Source Name with Owner',\n",
      "       'Repository License', 'Repository Contributors Count',\n",
      "       'Repository Readme filename', 'Repository Changelog filename',\n",
      "       'Repository Contributing guidelines filename',\n",
      "       'Repository License filename', 'Repository Code of Conduct filename',\n",
      "       'Repository Security Threat Model filename',\n",
      "       'Repository Security Audit filename', 'Repository Status',\n",
      "       'Repository Last Synced Timestamp', 'Repository SourceRank',\n",
      "       'Repository Display Name', 'Repository SCM type',\n",
      "       'Repository Pull requests enabled?', 'Repository Logo URL',\n",
      "       'Repository Keywords'],\n",
      "      dtype='object')\n"
     ]
    }
   ],
   "source": [
    "print(dataValidation.columns)"
   ]
  },
  {
   "cell_type": "markdown",
   "id": "e2523ce7",
   "metadata": {},
   "source": [
    "# Multiple Regression Model"
   ]
  },
  {
   "cell_type": "markdown",
   "id": "b6600a5a",
   "metadata": {},
   "source": [
    "### Main DataSet\n"
   ]
  },
  {
   "cell_type": "code",
   "execution_count": null,
   "id": "8104730e",
   "metadata": {},
   "outputs": [
    {
     "name": "stdout",
     "output_type": "stream",
     "text": [
      "                            OLS Regression Results                            \n",
      "==============================================================================\n",
      "Dep. Variable:              Bug_Count   R-squared:                       0.905\n",
      "Model:                            OLS   Adj. R-squared:                  0.897\n",
      "Method:                 Least Squares   F-statistic:                     113.8\n",
      "Date:                Tue, 21 Oct 2025   Prob (F-statistic):           1.98e-18\n",
      "Time:                        16:29:59   Log-Likelihood:                -175.41\n",
      "No. Observations:                  40   AIC:                             358.8\n",
      "Df Residuals:                      36   BIC:                             365.6\n",
      "Df Model:                           3                                         \n",
      "Covariance Type:            nonrobust                                         \n",
      "===============================================================================================\n",
      "                                  coef    std err          t      P>|t|      [0.025      0.975]\n",
      "-----------------------------------------------------------------------------------------------\n",
      "const                          -7.5933      8.271     -0.918      0.365     -24.368       9.181\n",
      "Team_Size                       2.9692      0.785      3.784      0.001       1.378       4.560\n",
      "Dependency_Count               -0.1736      0.077     -2.264      0.030      -0.329      -0.018\n",
      "Outdated_Dependencies_Count     3.3725      0.414      8.140      0.000       2.532       4.213\n",
      "==============================================================================\n",
      "Omnibus:                        6.278   Durbin-Watson:                   1.813\n",
      "Prob(Omnibus):                  0.043   Jarque-Bera (JB):                8.690\n",
      "Skew:                           0.175   Prob(JB):                       0.0130\n",
      "Kurtosis:                       5.256   Cond. No.                         524.\n",
      "==============================================================================\n",
      "\n",
      "Notes:\n",
      "[1] Standard Errors assume that the covariance matrix of the errors is correctly specified.\n"
     ]
    }
   ],
   "source": [
    "X = dataMain[['Team_Size', 'Dependency_Count', 'Outdated_Dependencies_Count']]\n",
    "y = dataMain['Bug_Count']\n",
    "\n",
    "# Intercept\n",
    "X = sm.add_constant(X)\n",
    "\n",
    "# Ordinary Least Squares reg model\n",
    "model = sm.OLS(y, X).fit()\n",
    "\n",
    "print(model.summary())\n"
   ]
  },
  {
   "cell_type": "markdown",
   "id": "d58349e5",
   "metadata": {},
   "source": [
    "## Aditional Dataset"
   ]
  },
  {
   "cell_type": "code",
   "execution_count": null,
   "id": "4f51fca6",
   "metadata": {},
   "outputs": [],
   "source": []
  }
 ],
 "metadata": {
  "kernelspec": {
   "display_name": ".venv",
   "language": "python",
   "name": "python3"
  },
  "language_info": {
   "codemirror_mode": {
    "name": "ipython",
    "version": 3
   },
   "file_extension": ".py",
   "mimetype": "text/x-python",
   "name": "python",
   "nbconvert_exporter": "python",
   "pygments_lexer": "ipython3",
   "version": "3.11.11"
  }
 },
 "nbformat": 4,
 "nbformat_minor": 5
}
